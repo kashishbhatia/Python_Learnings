{
 "cells": [
  {
   "cell_type": "markdown",
   "id": "4b808326",
   "metadata": {},
   "source": [
    "# Basic layout of try-except blocks"
   ]
  },
  {
   "cell_type": "code",
   "execution_count": 8,
   "id": "55b7a8c1",
   "metadata": {},
   "outputs": [],
   "source": [
    "def func():\n",
    "    try:\n",
    "        pass\n",
    "    except:     # catches all exceptions\n",
    "        pass\n",
    "    else:       # if no error in try block, this block is executed\n",
    "        pass\n",
    "    finally:    # this block is executed always\n",
    "        pass"
   ]
  },
  {
   "cell_type": "markdown",
   "id": "68690f9e",
   "metadata": {},
   "source": [
    "## Example 1 :"
   ]
  },
  {
   "cell_type": "code",
   "execution_count": 33,
   "id": "d107ae83",
   "metadata": {},
   "outputs": [
    {
     "name": "stdout",
     "output_type": "stream",
     "text": [
      "a\n",
      "b\n",
      "d\n"
     ]
    }
   ],
   "source": [
    "def func2():\n",
    "    try:\n",
    "        print(\"a\")\n",
    "        raise Exception(\"doom\")   # raise an exception\n",
    "    except:\n",
    "        print(\"b\")\n",
    "    else:\n",
    "        print(\"c\")               # else block is skipped as exception is raised\n",
    "    finally:\n",
    "        print(\"d\")\n",
    "        \n",
    "func2()"
   ]
  },
  {
   "cell_type": "markdown",
   "id": "7959a114",
   "metadata": {},
   "source": [
    "## Example 2 : "
   ]
  },
  {
   "cell_type": "code",
   "execution_count": 102,
   "id": "f4893df9",
   "metadata": {},
   "outputs": [
    {
     "name": "stdout",
     "output_type": "stream",
     "text": [
      "a\n",
      "c\n",
      "d\n"
     ]
    }
   ],
   "source": [
    "def func3():\n",
    "    try:\n",
    "        print (\"a\")\n",
    "    except:\n",
    "        print (\"b\")             # except block is skipped as no error occurred in try block\n",
    "    else:\n",
    "        print (\"c\")\n",
    "    finally:\n",
    "        print (\"d\")\n",
    "        \n",
    "func3()"
   ]
  },
  {
   "cell_type": "markdown",
   "id": "dc87f248",
   "metadata": {},
   "source": [
    "## Example 3 : How return statement behaves"
   ]
  },
  {
   "cell_type": "code",
   "execution_count": 103,
   "id": "483b27d8",
   "metadata": {},
   "outputs": [
    {
     "name": "stdout",
     "output_type": "stream",
     "text": [
      "a\n",
      "d\n"
     ]
    }
   ],
   "source": [
    "# both except and else blocks are skipped as try block returns. More importantly, even if try block returns,\n",
    "# finally block is executed.\n",
    "\n",
    "def f():\n",
    "    try:\n",
    "        print(\"a\")\n",
    "        return\n",
    "    except:\n",
    "        print(\"b\")\n",
    "    else:\n",
    "        print(\"c\")\n",
    "    finally:\n",
    "        print(\"d\")\n",
    "\n",
    "        \n",
    "\n",
    "f()\n"
   ]
  },
  {
   "cell_type": "markdown",
   "id": "bad2dd4e",
   "metadata": {},
   "source": [
    "## Example 4 : Handling sysExit"
   ]
  },
  {
   "cell_type": "code",
   "execution_count": 104,
   "id": "da063b7b",
   "metadata": {},
   "outputs": [
    {
     "name": "stdout",
     "output_type": "stream",
     "text": [
      "a\n",
      "b\n",
      "d\n"
     ]
    }
   ],
   "source": [
    "def ff():\n",
    "    try:\n",
    "        print(\"a\")\n",
    "        sys.exit(1)     \n",
    "    except:\n",
    "        print(\"b\")\n",
    "    else:\n",
    "        print(\"c\")\n",
    "    finally:\n",
    "        print(\"d\")\n",
    "        \n",
    "ff()\n",
    "\n",
    "# Note : exit() cannot be treated as returning from the function. exit() raises the systemExit exception and hence\n",
    "# is caught by except block"
   ]
  },
  {
   "cell_type": "markdown",
   "id": "5621dc59",
   "metadata": {},
   "source": [
    "## Example 5 : Handle specific exception"
   ]
  },
  {
   "cell_type": "code",
   "execution_count": 105,
   "id": "e020a6f5",
   "metadata": {},
   "outputs": [
    {
     "name": "stderr",
     "output_type": "stream",
     "text": [
      "The given file doesn't exist:  abc.txt\n",
      "ERROR:root:Internal Python error in the inspect module.\n",
      "Below is the traceback from this internal error.\n",
      "\n"
     ]
    },
    {
     "name": "stdout",
     "output_type": "stream",
     "text": [
      "Traceback (most recent call last):\n",
      "  File \"<ipython-input-105-0eb74dce77e7>\", line 6, in main\n",
      "    open(filename)\n",
      "FileNotFoundError: [Errno 2] No such file or directory: 'abc.txt'\n",
      "\n",
      "During handling of the above exception, another exception occurred:\n",
      "\n",
      "Traceback (most recent call last):\n",
      "  File \"/Users/kbhatia/opt/anaconda3/lib/python3.8/site-packages/IPython/core/interactiveshell.py\", line 3437, in run_code\n",
      "    exec(code_obj, self.user_global_ns, self.user_ns)\n",
      "  File \"<ipython-input-105-0eb74dce77e7>\", line 12, in <module>\n",
      "    main()\n",
      "  File \"<ipython-input-105-0eb74dce77e7>\", line 9, in main\n",
      "    sys.exit(1)\n",
      "SystemExit: 1\n",
      "\n",
      "During handling of the above exception, another exception occurred:\n",
      "\n",
      "Traceback (most recent call last):\n",
      "  File \"/Users/kbhatia/opt/anaconda3/lib/python3.8/site-packages/IPython/core/ultratb.py\", line 1101, in get_records\n",
      "    return _fixed_getinnerframes(etb, number_of_lines_of_context, tb_offset)\n",
      "  File \"/Users/kbhatia/opt/anaconda3/lib/python3.8/site-packages/IPython/core/ultratb.py\", line 248, in wrapped\n",
      "    return f(*args, **kwargs)\n",
      "  File \"/Users/kbhatia/opt/anaconda3/lib/python3.8/site-packages/IPython/core/ultratb.py\", line 281, in _fixed_getinnerframes\n",
      "    records = fix_frame_records_filenames(inspect.getinnerframes(etb, context))\n",
      "  File \"/Users/kbhatia/opt/anaconda3/lib/python3.8/inspect.py\", line 1515, in getinnerframes\n",
      "    frameinfo = (tb.tb_frame,) + getframeinfo(tb, context)\n",
      "AttributeError: 'tuple' object has no attribute 'tb_frame'\n"
     ]
    },
    {
     "ename": "TypeError",
     "evalue": "object of type 'NoneType' has no len()",
     "output_type": "error",
     "traceback": [
      "\u001b[0;31m---------------------------------------------------------------------------\u001b[0m",
      "\u001b[0;31mFileNotFoundError\u001b[0m                         Traceback (most recent call last)",
      "\u001b[0;32m<ipython-input-105-0eb74dce77e7>\u001b[0m in \u001b[0;36mmain\u001b[0;34m()\u001b[0m\n\u001b[1;32m      5\u001b[0m     \u001b[0;32mtry\u001b[0m\u001b[0;34m:\u001b[0m\u001b[0;34m\u001b[0m\u001b[0;34m\u001b[0m\u001b[0m\n\u001b[0;32m----> 6\u001b[0;31m         \u001b[0mopen\u001b[0m\u001b[0;34m(\u001b[0m\u001b[0mfilename\u001b[0m\u001b[0;34m)\u001b[0m\u001b[0;34m\u001b[0m\u001b[0;34m\u001b[0m\u001b[0m\n\u001b[0m\u001b[1;32m      7\u001b[0m     \u001b[0;32mexcept\u001b[0m \u001b[0mIOError\u001b[0m\u001b[0;34m:\u001b[0m\u001b[0;34m\u001b[0m\u001b[0;34m\u001b[0m\u001b[0m\n",
      "\u001b[0;31mFileNotFoundError\u001b[0m: [Errno 2] No such file or directory: 'abc.txt'",
      "\nDuring handling of the above exception, another exception occurred:\n",
      "\u001b[0;31mSystemExit\u001b[0m                                Traceback (most recent call last)",
      "    \u001b[0;31m[... skipping hidden 1 frame]\u001b[0m\n",
      "\u001b[0;32m<ipython-input-105-0eb74dce77e7>\u001b[0m in \u001b[0;36m<module>\u001b[0;34m\u001b[0m\n\u001b[1;32m     11\u001b[0m \u001b[0;34m\u001b[0m\u001b[0m\n\u001b[0;32m---> 12\u001b[0;31m \u001b[0mmain\u001b[0m\u001b[0;34m(\u001b[0m\u001b[0;34m)\u001b[0m\u001b[0;34m\u001b[0m\u001b[0;34m\u001b[0m\u001b[0m\n\u001b[0m\u001b[1;32m     13\u001b[0m \u001b[0;34m\u001b[0m\u001b[0m\n",
      "\u001b[0;32m<ipython-input-105-0eb74dce77e7>\u001b[0m in \u001b[0;36mmain\u001b[0;34m()\u001b[0m\n\u001b[1;32m      8\u001b[0m         \u001b[0mprint\u001b[0m\u001b[0;34m(\u001b[0m\u001b[0;34m\"The given file doesn't exist: \"\u001b[0m\u001b[0;34m,\u001b[0m \u001b[0mfilename\u001b[0m\u001b[0;34m,\u001b[0m \u001b[0mfile\u001b[0m\u001b[0;34m=\u001b[0m\u001b[0msys\u001b[0m\u001b[0;34m.\u001b[0m\u001b[0mstderr\u001b[0m\u001b[0;34m)\u001b[0m\u001b[0;34m\u001b[0m\u001b[0;34m\u001b[0m\u001b[0m\n\u001b[0;32m----> 9\u001b[0;31m         \u001b[0msys\u001b[0m\u001b[0;34m.\u001b[0m\u001b[0mexit\u001b[0m\u001b[0;34m(\u001b[0m\u001b[0;36m1\u001b[0m\u001b[0;34m)\u001b[0m\u001b[0;34m\u001b[0m\u001b[0;34m\u001b[0m\u001b[0m\n\u001b[0m\u001b[1;32m     10\u001b[0m \u001b[0;34m\u001b[0m\u001b[0m\n",
      "\u001b[0;31mSystemExit\u001b[0m: 1",
      "\nDuring handling of the above exception, another exception occurred:\n",
      "\u001b[0;31mTypeError\u001b[0m                                 Traceback (most recent call last)",
      "    \u001b[0;31m[... skipping hidden 1 frame]\u001b[0m\n",
      "\u001b[0;32m~/opt/anaconda3/lib/python3.8/site-packages/IPython/core/interactiveshell.py\u001b[0m in \u001b[0;36mshowtraceback\u001b[0;34m(self, exc_tuple, filename, tb_offset, exception_only, running_compiled_code)\u001b[0m\n\u001b[1;32m   2052\u001b[0m                     stb = ['An exception has occurred, use %tb to see '\n\u001b[1;32m   2053\u001b[0m                            'the full traceback.\\n']\n\u001b[0;32m-> 2054\u001b[0;31m                     stb.extend(self.InteractiveTB.get_exception_only(etype,\n\u001b[0m\u001b[1;32m   2055\u001b[0m                                                                      value))\n\u001b[1;32m   2056\u001b[0m                 \u001b[0;32melse\u001b[0m\u001b[0;34m:\u001b[0m\u001b[0;34m\u001b[0m\u001b[0;34m\u001b[0m\u001b[0m\n",
      "\u001b[0;32m~/opt/anaconda3/lib/python3.8/site-packages/IPython/core/ultratb.py\u001b[0m in \u001b[0;36mget_exception_only\u001b[0;34m(self, etype, value)\u001b[0m\n\u001b[1;32m    752\u001b[0m         \u001b[0mvalue\u001b[0m \u001b[0;34m:\u001b[0m \u001b[0mexception\u001b[0m \u001b[0mvalue\u001b[0m\u001b[0;34m\u001b[0m\u001b[0;34m\u001b[0m\u001b[0m\n\u001b[1;32m    753\u001b[0m         \"\"\"\n\u001b[0;32m--> 754\u001b[0;31m         \u001b[0;32mreturn\u001b[0m \u001b[0mListTB\u001b[0m\u001b[0;34m.\u001b[0m\u001b[0mstructured_traceback\u001b[0m\u001b[0;34m(\u001b[0m\u001b[0mself\u001b[0m\u001b[0;34m,\u001b[0m \u001b[0metype\u001b[0m\u001b[0;34m,\u001b[0m \u001b[0mvalue\u001b[0m\u001b[0;34m)\u001b[0m\u001b[0;34m\u001b[0m\u001b[0;34m\u001b[0m\u001b[0m\n\u001b[0m\u001b[1;32m    755\u001b[0m \u001b[0;34m\u001b[0m\u001b[0m\n\u001b[1;32m    756\u001b[0m     \u001b[0;32mdef\u001b[0m \u001b[0mshow_exception_only\u001b[0m\u001b[0;34m(\u001b[0m\u001b[0mself\u001b[0m\u001b[0;34m,\u001b[0m \u001b[0metype\u001b[0m\u001b[0;34m,\u001b[0m \u001b[0mevalue\u001b[0m\u001b[0;34m)\u001b[0m\u001b[0;34m:\u001b[0m\u001b[0;34m\u001b[0m\u001b[0;34m\u001b[0m\u001b[0m\n",
      "\u001b[0;32m~/opt/anaconda3/lib/python3.8/site-packages/IPython/core/ultratb.py\u001b[0m in \u001b[0;36mstructured_traceback\u001b[0;34m(self, etype, evalue, etb, tb_offset, context)\u001b[0m\n\u001b[1;32m    627\u001b[0m             \u001b[0mchained_exceptions_tb_offset\u001b[0m \u001b[0;34m=\u001b[0m \u001b[0;36m0\u001b[0m\u001b[0;34m\u001b[0m\u001b[0;34m\u001b[0m\u001b[0m\n\u001b[1;32m    628\u001b[0m             out_list = (\n\u001b[0;32m--> 629\u001b[0;31m                 self.structured_traceback(\n\u001b[0m\u001b[1;32m    630\u001b[0m                     \u001b[0metype\u001b[0m\u001b[0;34m,\u001b[0m \u001b[0mevalue\u001b[0m\u001b[0;34m,\u001b[0m \u001b[0;34m(\u001b[0m\u001b[0metb\u001b[0m\u001b[0;34m,\u001b[0m \u001b[0mchained_exc_ids\u001b[0m\u001b[0;34m)\u001b[0m\u001b[0;34m,\u001b[0m\u001b[0;34m\u001b[0m\u001b[0;34m\u001b[0m\u001b[0m\n\u001b[1;32m    631\u001b[0m                     chained_exceptions_tb_offset, context)\n",
      "\u001b[0;32m~/opt/anaconda3/lib/python3.8/site-packages/IPython/core/ultratb.py\u001b[0m in \u001b[0;36mstructured_traceback\u001b[0;34m(self, etype, value, tb, tb_offset, number_of_lines_of_context)\u001b[0m\n\u001b[1;32m   1365\u001b[0m         \u001b[0;32melse\u001b[0m\u001b[0;34m:\u001b[0m\u001b[0;34m\u001b[0m\u001b[0;34m\u001b[0m\u001b[0m\n\u001b[1;32m   1366\u001b[0m             \u001b[0mself\u001b[0m\u001b[0;34m.\u001b[0m\u001b[0mtb\u001b[0m \u001b[0;34m=\u001b[0m \u001b[0mtb\u001b[0m\u001b[0;34m\u001b[0m\u001b[0;34m\u001b[0m\u001b[0m\n\u001b[0;32m-> 1367\u001b[0;31m         return FormattedTB.structured_traceback(\n\u001b[0m\u001b[1;32m   1368\u001b[0m             self, etype, value, tb, tb_offset, number_of_lines_of_context)\n\u001b[1;32m   1369\u001b[0m \u001b[0;34m\u001b[0m\u001b[0m\n",
      "\u001b[0;32m~/opt/anaconda3/lib/python3.8/site-packages/IPython/core/ultratb.py\u001b[0m in \u001b[0;36mstructured_traceback\u001b[0;34m(self, etype, value, tb, tb_offset, number_of_lines_of_context)\u001b[0m\n\u001b[1;32m   1265\u001b[0m         \u001b[0;32mif\u001b[0m \u001b[0mmode\u001b[0m \u001b[0;32min\u001b[0m \u001b[0mself\u001b[0m\u001b[0;34m.\u001b[0m\u001b[0mverbose_modes\u001b[0m\u001b[0;34m:\u001b[0m\u001b[0;34m\u001b[0m\u001b[0;34m\u001b[0m\u001b[0m\n\u001b[1;32m   1266\u001b[0m             \u001b[0;31m# Verbose modes need a full traceback\u001b[0m\u001b[0;34m\u001b[0m\u001b[0;34m\u001b[0m\u001b[0;34m\u001b[0m\u001b[0m\n\u001b[0;32m-> 1267\u001b[0;31m             return VerboseTB.structured_traceback(\n\u001b[0m\u001b[1;32m   1268\u001b[0m                 \u001b[0mself\u001b[0m\u001b[0;34m,\u001b[0m \u001b[0metype\u001b[0m\u001b[0;34m,\u001b[0m \u001b[0mvalue\u001b[0m\u001b[0;34m,\u001b[0m \u001b[0mtb\u001b[0m\u001b[0;34m,\u001b[0m \u001b[0mtb_offset\u001b[0m\u001b[0;34m,\u001b[0m \u001b[0mnumber_of_lines_of_context\u001b[0m\u001b[0;34m\u001b[0m\u001b[0;34m\u001b[0m\u001b[0m\n\u001b[1;32m   1269\u001b[0m             )\n",
      "\u001b[0;32m~/opt/anaconda3/lib/python3.8/site-packages/IPython/core/ultratb.py\u001b[0m in \u001b[0;36mstructured_traceback\u001b[0;34m(self, etype, evalue, etb, tb_offset, number_of_lines_of_context)\u001b[0m\n\u001b[1;32m   1122\u001b[0m         \u001b[0;34m\"\"\"Return a nice text document describing the traceback.\"\"\"\u001b[0m\u001b[0;34m\u001b[0m\u001b[0;34m\u001b[0m\u001b[0m\n\u001b[1;32m   1123\u001b[0m \u001b[0;34m\u001b[0m\u001b[0m\n\u001b[0;32m-> 1124\u001b[0;31m         formatted_exception = self.format_exception_as_a_whole(etype, evalue, etb, number_of_lines_of_context,\n\u001b[0m\u001b[1;32m   1125\u001b[0m                                                                tb_offset)\n\u001b[1;32m   1126\u001b[0m \u001b[0;34m\u001b[0m\u001b[0m\n",
      "\u001b[0;32m~/opt/anaconda3/lib/python3.8/site-packages/IPython/core/ultratb.py\u001b[0m in \u001b[0;36mformat_exception_as_a_whole\u001b[0;34m(self, etype, evalue, etb, number_of_lines_of_context, tb_offset)\u001b[0m\n\u001b[1;32m   1080\u001b[0m \u001b[0;34m\u001b[0m\u001b[0m\n\u001b[1;32m   1081\u001b[0m \u001b[0;34m\u001b[0m\u001b[0m\n\u001b[0;32m-> 1082\u001b[0;31m         \u001b[0mlast_unique\u001b[0m\u001b[0;34m,\u001b[0m \u001b[0mrecursion_repeat\u001b[0m \u001b[0;34m=\u001b[0m \u001b[0mfind_recursion\u001b[0m\u001b[0;34m(\u001b[0m\u001b[0morig_etype\u001b[0m\u001b[0;34m,\u001b[0m \u001b[0mevalue\u001b[0m\u001b[0;34m,\u001b[0m \u001b[0mrecords\u001b[0m\u001b[0;34m)\u001b[0m\u001b[0;34m\u001b[0m\u001b[0;34m\u001b[0m\u001b[0m\n\u001b[0m\u001b[1;32m   1083\u001b[0m \u001b[0;34m\u001b[0m\u001b[0m\n\u001b[1;32m   1084\u001b[0m         \u001b[0mframes\u001b[0m \u001b[0;34m=\u001b[0m \u001b[0mself\u001b[0m\u001b[0;34m.\u001b[0m\u001b[0mformat_records\u001b[0m\u001b[0;34m(\u001b[0m\u001b[0mrecords\u001b[0m\u001b[0;34m,\u001b[0m \u001b[0mlast_unique\u001b[0m\u001b[0;34m,\u001b[0m \u001b[0mrecursion_repeat\u001b[0m\u001b[0;34m)\u001b[0m\u001b[0;34m\u001b[0m\u001b[0;34m\u001b[0m\u001b[0m\n",
      "\u001b[0;32m~/opt/anaconda3/lib/python3.8/site-packages/IPython/core/ultratb.py\u001b[0m in \u001b[0;36mfind_recursion\u001b[0;34m(etype, value, records)\u001b[0m\n\u001b[1;32m    380\u001b[0m     \u001b[0;31m# first frame (from in to out) that looks different.\u001b[0m\u001b[0;34m\u001b[0m\u001b[0;34m\u001b[0m\u001b[0;34m\u001b[0m\u001b[0m\n\u001b[1;32m    381\u001b[0m     \u001b[0;32mif\u001b[0m \u001b[0;32mnot\u001b[0m \u001b[0mis_recursion_error\u001b[0m\u001b[0;34m(\u001b[0m\u001b[0metype\u001b[0m\u001b[0;34m,\u001b[0m \u001b[0mvalue\u001b[0m\u001b[0;34m,\u001b[0m \u001b[0mrecords\u001b[0m\u001b[0;34m)\u001b[0m\u001b[0;34m:\u001b[0m\u001b[0;34m\u001b[0m\u001b[0;34m\u001b[0m\u001b[0m\n\u001b[0;32m--> 382\u001b[0;31m         \u001b[0;32mreturn\u001b[0m \u001b[0mlen\u001b[0m\u001b[0;34m(\u001b[0m\u001b[0mrecords\u001b[0m\u001b[0;34m)\u001b[0m\u001b[0;34m,\u001b[0m \u001b[0;36m0\u001b[0m\u001b[0;34m\u001b[0m\u001b[0;34m\u001b[0m\u001b[0m\n\u001b[0m\u001b[1;32m    383\u001b[0m \u001b[0;34m\u001b[0m\u001b[0m\n\u001b[1;32m    384\u001b[0m     \u001b[0;31m# Select filename, lineno, func_name to track frames with\u001b[0m\u001b[0;34m\u001b[0m\u001b[0;34m\u001b[0m\u001b[0;34m\u001b[0m\u001b[0m\n",
      "\u001b[0;31mTypeError\u001b[0m: object of type 'NoneType' has no len()"
     ]
    }
   ],
   "source": [
    "import sys\n",
    "\n",
    "def main():\n",
    "    filename = \"abc.txt\"\n",
    "    try:\n",
    "        open(filename)\n",
    "    except IOError:\n",
    "        print(\"The given file doesn't exist: \", filename, file=sys.stderr)\n",
    "        sys.exit(1)\n",
    "        \n",
    "        \n",
    "main()\n",
    "\n",
    "# Note : Here 2 exceptions are raised\n",
    "# 1. One is IOError exception due to unavaialbillity of the file\n",
    "# 2. Second by sys.exit(). This exception is caught by the OS."
   ]
  },
  {
   "cell_type": "markdown",
   "id": "003a82dd",
   "metadata": {},
   "source": [
    "## Example 6 : Extension to previous example"
   ]
  },
  {
   "cell_type": "code",
   "execution_count": 106,
   "id": "21e4292c",
   "metadata": {},
   "outputs": [
    {
     "name": "stdout",
     "output_type": "stream",
     "text": [
      "Ignore the error\n"
     ]
    },
    {
     "name": "stderr",
     "output_type": "stream",
     "text": [
      "The given file doesn't exist:  abc.txt\n"
     ]
    }
   ],
   "source": [
    "import sys\n",
    "\n",
    "def main():\n",
    "    filename = \"abc.txt\"\n",
    "    try:\n",
    "        open(filename)\n",
    "    except IOError:\n",
    "        print(\"The given file doesn't exist: \", filename, file=sys.stderr)\n",
    "        sys.exit(1)\n",
    "        \n",
    "\n",
    "def caller():       \n",
    "    try:\n",
    "        main()\n",
    "    except:\n",
    "        print(\"Ignore the error\")\n",
    "        \n",
    "caller()\n",
    "\n",
    "# Note : Here 2 exceptions are raised\n",
    "# 1. One is IOError exception due to unavaialbillity of the file\n",
    "# 2. Second by sys.exit(). This exception is now handled by caller() unlike in previous example"
   ]
  },
  {
   "cell_type": "markdown",
   "id": "e2481891",
   "metadata": {},
   "source": [
    "## Example 6 : Handling multiple exceptions"
   ]
  },
  {
   "cell_type": "code",
   "execution_count": 107,
   "id": "3a63f6fd",
   "metadata": {},
   "outputs": [
    {
     "name": "stdout",
     "output_type": "stream",
     "text": [
      "Divide by zero error\n"
     ]
    },
    {
     "name": "stderr",
     "output_type": "stream",
     "text": [
      "The given file doesn't exist:  abc.txt\n"
     ]
    }
   ],
   "source": [
    "import sys\n",
    "\n",
    "def main():\n",
    "    filename = \"abc.txt\"\n",
    "    x = 1\n",
    "    try:\n",
    "        if (x):\n",
    "            open(filename)\n",
    "        else:\n",
    "            k = 2/0\n",
    "        \n",
    "    except (IOError, ZeroDivisionError):   # a common except block\n",
    "        print(\"The given file doesn't exist: \", filename, file=sys.stderr)\n",
    "        \n",
    " \n",
    "def main2():\n",
    "    filename = \"abc.txt\"\n",
    "    x = 0\n",
    "    try:\n",
    "        if (x):\n",
    "            open(filename)\n",
    "        else:\n",
    "            k = 2/0\n",
    "        \n",
    "    except IOError:\n",
    "        print(\"The given file doesn't exist: \", filename, file=sys.stderr)\n",
    "    except ZeroDivisionError:        # separate except blocks to deal with errors\n",
    "        print(\"Divide by zero error\")\n",
    "\n",
    "main()\n",
    "main2()"
   ]
  },
  {
   "cell_type": "markdown",
   "id": "27f3ea9f",
   "metadata": {},
   "source": [
    "# Raising exceptions"
   ]
  },
  {
   "cell_type": "code",
   "execution_count": 108,
   "id": "3e167673",
   "metadata": {},
   "outputs": [],
   "source": [
    "# There can be different ways to raise exceptions. Lets look at different methods"
   ]
  },
  {
   "cell_type": "markdown",
   "id": "9515ee7c",
   "metadata": {},
   "source": [
    "## Method 1: Raising exception using \"Exception object\""
   ]
  },
  {
   "cell_type": "code",
   "execution_count": 109,
   "id": "12f248a5",
   "metadata": {},
   "outputs": [
    {
     "name": "stdout",
     "output_type": "stream",
     "text": [
      "a\n",
      "d\n"
     ]
    },
    {
     "ename": "Exception",
     "evalue": "doom",
     "output_type": "error",
     "traceback": [
      "\u001b[0;31m---------------------------------------------------------------------------\u001b[0m",
      "\u001b[0;31mException\u001b[0m                                 Traceback (most recent call last)",
      "\u001b[0;32m<ipython-input-109-f2cc9a88cb80>\u001b[0m in \u001b[0;36m<module>\u001b[0;34m\u001b[0m\n\u001b[1;32m      6\u001b[0m         \u001b[0mprint\u001b[0m\u001b[0;34m(\u001b[0m\u001b[0;34m\"d\"\u001b[0m\u001b[0;34m)\u001b[0m\u001b[0;34m\u001b[0m\u001b[0;34m\u001b[0m\u001b[0m\n\u001b[1;32m      7\u001b[0m \u001b[0;34m\u001b[0m\u001b[0m\n\u001b[0;32m----> 8\u001b[0;31m \u001b[0mfunc2\u001b[0m\u001b[0;34m(\u001b[0m\u001b[0;34m)\u001b[0m\u001b[0;34m\u001b[0m\u001b[0;34m\u001b[0m\u001b[0m\n\u001b[0m\u001b[1;32m      9\u001b[0m \u001b[0;34m\u001b[0m\u001b[0m\n\u001b[1;32m     10\u001b[0m \u001b[0;31m# Note: there is no except block to gracefully handle the exception unlike in Example 1.\u001b[0m\u001b[0;34m\u001b[0m\u001b[0;34m\u001b[0m\u001b[0;34m\u001b[0m\u001b[0m\n",
      "\u001b[0;32m<ipython-input-109-f2cc9a88cb80>\u001b[0m in \u001b[0;36mfunc2\u001b[0;34m()\u001b[0m\n\u001b[1;32m      2\u001b[0m     \u001b[0;32mtry\u001b[0m\u001b[0;34m:\u001b[0m\u001b[0;34m\u001b[0m\u001b[0;34m\u001b[0m\u001b[0m\n\u001b[1;32m      3\u001b[0m         \u001b[0mprint\u001b[0m\u001b[0;34m(\u001b[0m\u001b[0;34m\"a\"\u001b[0m\u001b[0;34m)\u001b[0m\u001b[0;34m\u001b[0m\u001b[0;34m\u001b[0m\u001b[0m\n\u001b[0;32m----> 4\u001b[0;31m         \u001b[0;32mraise\u001b[0m \u001b[0mException\u001b[0m\u001b[0;34m(\u001b[0m\u001b[0;34m\"doom\"\u001b[0m\u001b[0;34m)\u001b[0m   \u001b[0;31m# raise an exception\u001b[0m\u001b[0;34m\u001b[0m\u001b[0;34m\u001b[0m\u001b[0m\n\u001b[0m\u001b[1;32m      5\u001b[0m     \u001b[0;32mfinally\u001b[0m\u001b[0;34m:\u001b[0m\u001b[0;34m\u001b[0m\u001b[0;34m\u001b[0m\u001b[0m\n\u001b[1;32m      6\u001b[0m         \u001b[0mprint\u001b[0m\u001b[0;34m(\u001b[0m\u001b[0;34m\"d\"\u001b[0m\u001b[0;34m)\u001b[0m\u001b[0;34m\u001b[0m\u001b[0;34m\u001b[0m\u001b[0m\n",
      "\u001b[0;31mException\u001b[0m: doom"
     ]
    }
   ],
   "source": [
    "def func2():\n",
    "    try:\n",
    "        print(\"a\")\n",
    "        raise Exception(\"doom\")   # raise an exception\n",
    "    finally:\n",
    "        print(\"d\")\n",
    "        \n",
    "func2()\n",
    "\n",
    "# Note: there is no except block to gracefully handle the exception unlike in Example 1."
   ]
  },
  {
   "cell_type": "markdown",
   "id": "be6598a8",
   "metadata": {},
   "source": [
    "## Method 2: Raising runtime exception using just \"raise\""
   ]
  },
  {
   "cell_type": "code",
   "execution_count": 110,
   "id": "48863667",
   "metadata": {},
   "outputs": [
    {
     "name": "stdout",
     "output_type": "stream",
     "text": [
      "a\n",
      "d\n"
     ]
    },
    {
     "ename": "RuntimeError",
     "evalue": "No active exception to reraise",
     "output_type": "error",
     "traceback": [
      "\u001b[0;31m---------------------------------------------------------------------------\u001b[0m",
      "\u001b[0;31mRuntimeError\u001b[0m                              Traceback (most recent call last)",
      "\u001b[0;32m<ipython-input-110-0fa098fe84b2>\u001b[0m in \u001b[0;36m<module>\u001b[0;34m\u001b[0m\n\u001b[1;32m      6\u001b[0m         \u001b[0mprint\u001b[0m\u001b[0;34m(\u001b[0m\u001b[0;34m\"d\"\u001b[0m\u001b[0;34m)\u001b[0m\u001b[0;34m\u001b[0m\u001b[0;34m\u001b[0m\u001b[0m\n\u001b[1;32m      7\u001b[0m \u001b[0;34m\u001b[0m\u001b[0m\n\u001b[0;32m----> 8\u001b[0;31m \u001b[0mfunc\u001b[0m\u001b[0;34m(\u001b[0m\u001b[0;34m)\u001b[0m\u001b[0;34m\u001b[0m\u001b[0;34m\u001b[0m\u001b[0m\n\u001b[0m",
      "\u001b[0;32m<ipython-input-110-0fa098fe84b2>\u001b[0m in \u001b[0;36mfunc\u001b[0;34m()\u001b[0m\n\u001b[1;32m      2\u001b[0m     \u001b[0;32mtry\u001b[0m\u001b[0;34m:\u001b[0m\u001b[0;34m\u001b[0m\u001b[0;34m\u001b[0m\u001b[0m\n\u001b[1;32m      3\u001b[0m         \u001b[0mprint\u001b[0m\u001b[0;34m(\u001b[0m\u001b[0;34m\"a\"\u001b[0m\u001b[0;34m)\u001b[0m\u001b[0;34m\u001b[0m\u001b[0;34m\u001b[0m\u001b[0m\n\u001b[0;32m----> 4\u001b[0;31m         \u001b[0;32mraise\u001b[0m         \u001b[0;31m# raise an exception. This by default raises runtime exception\u001b[0m\u001b[0;34m\u001b[0m\u001b[0;34m\u001b[0m\u001b[0m\n\u001b[0m\u001b[1;32m      5\u001b[0m     \u001b[0;32mfinally\u001b[0m\u001b[0;34m:\u001b[0m\u001b[0;34m\u001b[0m\u001b[0;34m\u001b[0m\u001b[0m\n\u001b[1;32m      6\u001b[0m         \u001b[0mprint\u001b[0m\u001b[0;34m(\u001b[0m\u001b[0;34m\"d\"\u001b[0m\u001b[0;34m)\u001b[0m\u001b[0;34m\u001b[0m\u001b[0;34m\u001b[0m\u001b[0m\n",
      "\u001b[0;31mRuntimeError\u001b[0m: No active exception to reraise"
     ]
    }
   ],
   "source": [
    "def func():\n",
    "    try:\n",
    "        print(\"a\")\n",
    "        raise         # raise an exception. This by default raises runtime exception\n",
    "    finally:\n",
    "        print(\"d\")\n",
    "        \n",
    "func()"
   ]
  },
  {
   "cell_type": "markdown",
   "id": "778b3bd2",
   "metadata": {},
   "source": [
    "## Method 3: Raise in-built exceptions"
   ]
  },
  {
   "cell_type": "code",
   "execution_count": 111,
   "id": "200c1021",
   "metadata": {},
   "outputs": [
    {
     "name": "stdout",
     "output_type": "stream",
     "text": [
      "101 is out of allowed range\n"
     ]
    }
   ],
   "source": [
    "try:\n",
    "    x=101\n",
    "    if x > 100:\n",
    "        raise ValueError(x)\n",
    "except ValueError:\n",
    "    print(x, \"is out of allowed range\")\n",
    "else:\n",
    "    print(x, \"is within the allowed range\")"
   ]
  },
  {
   "cell_type": "markdown",
   "id": "e8d5ec14",
   "metadata": {},
   "source": [
    "## Method 4: Create your own exceptions and raise them"
   ]
  },
  {
   "cell_type": "code",
   "execution_count": 91,
   "id": "be73cd63",
   "metadata": {},
   "outputs": [
    {
     "name": "stdout",
     "output_type": "stream",
     "text": [
      "('B', 'a', 'd', ' ', 'h', 'o', 's', 't', 'n', 'a', 'm', 'e') <class '__main__.Networkerror'>\n",
      "('S', 'u', 'b', 'n', 'e', 't', ' ', 'e', 'r', 'r', 'o', 'r') <class '__main__.SubNetworkerror'>\n",
      "Enter something --> a\n",
      "ShortInputException: The input was 1 long, expected at least 3\n"
     ]
    }
   ],
   "source": [
    "# user defined exceptions inherited from built-in exceptions\n",
    "\n",
    "class Networkerror(RuntimeError):\n",
    "   def __init__(self, arg):\n",
    "      self.args = arg\n",
    "        \n",
    "class SubNetworkerror(Exception):\n",
    "    def __init__(self, arg):\n",
    "        self.args = arg\n",
    "        \n",
    "def f1():\n",
    "    try:\n",
    "        raise Networkerror(\"Bad hostname\")\n",
    "    except Networkerror as e:\n",
    "        print (e.args, type(e))              # check next section\n",
    "        \n",
    "def f2():\n",
    "    try:\n",
    "        raise SubNetworkerror(\"Subnet error\")\n",
    "    except SubNetworkerror as e:\n",
    "        print (e.args, type(e))   \n",
    "        \n",
    "f1()\n",
    "f2()\n",
    "\n",
    "# Investigate : Why it does not print a argument as string like in Instance 1 ?? \n",
    "\n",
    "\n",
    "#Another example :\n",
    "\n",
    "class ShortInputException(Exception):\n",
    "    '''A user-defined exception class.'''\n",
    "    def __init__(self, length, atleast):\n",
    "        Exception.__init__(self)\n",
    "        self.length = length\n",
    "        self.atleast = atleast\n",
    "\n",
    "try:\n",
    "    text = input('Enter something --> ')\n",
    "    if len(text) < 3:\n",
    "        raise ShortInputException(len(text), 3)\n",
    "except EOFError:\n",
    "    print('Why did you do an EOF on me?')\n",
    "except ShortInputException as ex:\n",
    "    print(('ShortInputException: The input was ' +\n",
    "           '{0} long, expected at least {1}')\n",
    "          .format(ex.length, ex.atleast))\n",
    "else:\n",
    "    print('No exception was raised.')\n"
   ]
  },
  {
   "cell_type": "markdown",
   "id": "d7df6755",
   "metadata": {},
   "source": [
    "# Using Exception objects "
   ]
  },
  {
   "cell_type": "code",
   "execution_count": 53,
   "id": "1e6ea2dd",
   "metadata": {},
   "outputs": [],
   "source": [
    "# We can make use of arguments passed as part of raising exceptions in except block"
   ]
  },
  {
   "cell_type": "markdown",
   "id": "40d06cdf",
   "metadata": {},
   "source": [
    "## Instance 1 : printing arguments of exception"
   ]
  },
  {
   "cell_type": "code",
   "execution_count": 65,
   "id": "436166c8",
   "metadata": {},
   "outputs": [
    {
     "name": "stdout",
     "output_type": "stream",
     "text": [
      "In try block\n",
      "Type is : <class 'Exception'>\n",
      "Args are:  ('doom', 'day')\n",
      "('doom', 'day')\n"
     ]
    }
   ],
   "source": [
    "def func2():\n",
    "    try:\n",
    "        print(\"In try block\")\n",
    "        raise Exception(\"doom\", \"day\")   # raise an exception\n",
    "    except Exception as e:               # Here 'e' is an exception object\n",
    "        print(\"Type is :\", type(e))\n",
    "        print(\"Args are: \", e.args)\n",
    "        print(e)                         # This converts the args in __str__ format\n",
    "\n",
    "        \n",
    "func2()"
   ]
  },
  {
   "cell_type": "markdown",
   "id": "262011b1",
   "metadata": {},
   "source": [
    "## Instance 2 : Printing exception"
   ]
  },
  {
   "cell_type": "code",
   "execution_count": 70,
   "id": "fd28a10c",
   "metadata": {},
   "outputs": [
    {
     "name": "stdout",
     "output_type": "stream",
     "text": [
      "Exception is :  division by zero\n"
     ]
    }
   ],
   "source": [
    "def main2():\n",
    "    filename = \"abc.txt\"\n",
    "    x = 0\n",
    "    try:\n",
    "        if (x):\n",
    "            open(filename)\n",
    "        else:\n",
    "            k = 2/0\n",
    "        \n",
    "    except IOError as i:\n",
    "        print(\"The given file doesn't exist: %s Exception is %s \" % (filename, i))\n",
    "    except ZeroDivisionError as z:        # separate except blocks to deal with errors\n",
    "        print(\"Exception is : \", z)\n",
    "\n",
    "\n",
    "main2()\n",
    "\n",
    "# Exercise : Change the value of x to 1 and try"
   ]
  },
  {
   "cell_type": "markdown",
   "id": "80e9ab85",
   "metadata": {},
   "source": [
    "# Exception Chaining"
   ]
  },
  {
   "cell_type": "code",
   "execution_count": 92,
   "id": "a7bdc6d3",
   "metadata": {},
   "outputs": [],
   "source": [
    "# The raise statement allows an optional 'from' which enables chaining exceptions. "
   ]
  },
  {
   "cell_type": "code",
   "execution_count": 97,
   "id": "ccb64bc2",
   "metadata": {},
   "outputs": [
    {
     "ename": "RuntimeError",
     "evalue": "Failure in func()",
     "output_type": "error",
     "traceback": [
      "\u001b[0;31m---------------------------------------------------------------------------\u001b[0m",
      "\u001b[0;31mException\u001b[0m                                 Traceback (most recent call last)",
      "\u001b[0;32m<ipython-input-97-dbe2dabeac3a>\u001b[0m in \u001b[0;36mcaller\u001b[0;34m()\u001b[0m\n\u001b[1;32m      6\u001b[0m     \u001b[0;32mtry\u001b[0m\u001b[0;34m:\u001b[0m\u001b[0;34m\u001b[0m\u001b[0;34m\u001b[0m\u001b[0m\n\u001b[0;32m----> 7\u001b[0;31m         \u001b[0mfunc\u001b[0m\u001b[0;34m(\u001b[0m\u001b[0;34m)\u001b[0m\u001b[0;34m\u001b[0m\u001b[0;34m\u001b[0m\u001b[0m\n\u001b[0m\u001b[1;32m      8\u001b[0m     \u001b[0;32mexcept\u001b[0m \u001b[0mException\u001b[0m \u001b[0;32mas\u001b[0m \u001b[0me\u001b[0m\u001b[0;34m:\u001b[0m\u001b[0;34m\u001b[0m\u001b[0;34m\u001b[0m\u001b[0m\n",
      "\u001b[0;32m<ipython-input-97-dbe2dabeac3a>\u001b[0m in \u001b[0;36mfunc\u001b[0;34m()\u001b[0m\n\u001b[1;32m      1\u001b[0m \u001b[0;32mdef\u001b[0m \u001b[0mfunc\u001b[0m\u001b[0;34m(\u001b[0m\u001b[0;34m)\u001b[0m\u001b[0;34m:\u001b[0m\u001b[0;34m\u001b[0m\u001b[0;34m\u001b[0m\u001b[0m\n\u001b[0;32m----> 2\u001b[0;31m     \u001b[0;32mraise\u001b[0m \u001b[0mException\u001b[0m\u001b[0;34m(\u001b[0m\u001b[0;34m\"In func\"\u001b[0m\u001b[0;34m)\u001b[0m\u001b[0;34m\u001b[0m\u001b[0;34m\u001b[0m\u001b[0m\n\u001b[0m\u001b[1;32m      3\u001b[0m \u001b[0;34m\u001b[0m\u001b[0m\n",
      "\u001b[0;31mException\u001b[0m: In func",
      "\nThe above exception was the direct cause of the following exception:\n",
      "\u001b[0;31mRuntimeError\u001b[0m                              Traceback (most recent call last)",
      "\u001b[0;32m<ipython-input-97-dbe2dabeac3a>\u001b[0m in \u001b[0;36m<module>\u001b[0;34m\u001b[0m\n\u001b[1;32m      9\u001b[0m         \u001b[0;32mraise\u001b[0m \u001b[0mRuntimeError\u001b[0m\u001b[0;34m(\u001b[0m\u001b[0;34m\"Failure in func()\"\u001b[0m\u001b[0;34m)\u001b[0m \u001b[0;32mfrom\u001b[0m \u001b[0me\u001b[0m\u001b[0;34m\u001b[0m\u001b[0;34m\u001b[0m\u001b[0m\n\u001b[1;32m     10\u001b[0m \u001b[0;34m\u001b[0m\u001b[0m\n\u001b[0;32m---> 11\u001b[0;31m \u001b[0mcaller\u001b[0m\u001b[0;34m(\u001b[0m\u001b[0;34m)\u001b[0m\u001b[0;34m\u001b[0m\u001b[0;34m\u001b[0m\u001b[0m\n\u001b[0m",
      "\u001b[0;32m<ipython-input-97-dbe2dabeac3a>\u001b[0m in \u001b[0;36mcaller\u001b[0;34m()\u001b[0m\n\u001b[1;32m      7\u001b[0m         \u001b[0mfunc\u001b[0m\u001b[0;34m(\u001b[0m\u001b[0;34m)\u001b[0m\u001b[0;34m\u001b[0m\u001b[0;34m\u001b[0m\u001b[0m\n\u001b[1;32m      8\u001b[0m     \u001b[0;32mexcept\u001b[0m \u001b[0mException\u001b[0m \u001b[0;32mas\u001b[0m \u001b[0me\u001b[0m\u001b[0;34m:\u001b[0m\u001b[0;34m\u001b[0m\u001b[0;34m\u001b[0m\u001b[0m\n\u001b[0;32m----> 9\u001b[0;31m         \u001b[0;32mraise\u001b[0m \u001b[0mRuntimeError\u001b[0m\u001b[0;34m(\u001b[0m\u001b[0;34m\"Failure in func()\"\u001b[0m\u001b[0;34m)\u001b[0m \u001b[0;32mfrom\u001b[0m \u001b[0me\u001b[0m\u001b[0;34m\u001b[0m\u001b[0;34m\u001b[0m\u001b[0m\n\u001b[0m\u001b[1;32m     10\u001b[0m \u001b[0;34m\u001b[0m\u001b[0m\n\u001b[1;32m     11\u001b[0m \u001b[0mcaller\u001b[0m\u001b[0;34m(\u001b[0m\u001b[0;34m)\u001b[0m\u001b[0;34m\u001b[0m\u001b[0;34m\u001b[0m\u001b[0m\n",
      "\u001b[0;31mRuntimeError\u001b[0m: Failure in func()"
     ]
    }
   ],
   "source": [
    "def func():\n",
    "    raise Exception(\"In func\")\n",
    "    \n",
    "    \n",
    "def caller():\n",
    "    try:\n",
    "        func()\n",
    "    except Exception as e:\n",
    "        raise RuntimeError(\"Failure in func()\") from e\n",
    "        \n",
    "caller()"
   ]
  },
  {
   "cell_type": "code",
   "execution_count": 98,
   "id": "53936064",
   "metadata": {},
   "outputs": [],
   "source": [
    "# Chaining can be disabled if used 'None'"
   ]
  },
  {
   "cell_type": "code",
   "execution_count": 101,
   "id": "eceae160",
   "metadata": {},
   "outputs": [
    {
     "ename": "RuntimeError",
     "evalue": "Failure in func()",
     "output_type": "error",
     "traceback": [
      "\u001b[0;31m---------------------------------------------------------------------------\u001b[0m",
      "\u001b[0;31mRuntimeError\u001b[0m                              Traceback (most recent call last)",
      "\u001b[0;32m<ipython-input-101-e24ee91762cb>\u001b[0m in \u001b[0;36m<module>\u001b[0;34m\u001b[0m\n\u001b[1;32m     10\u001b[0m         \u001b[0;32mraise\u001b[0m \u001b[0mRuntimeError\u001b[0m\u001b[0;34m(\u001b[0m\u001b[0;34m\"Failure in func()\"\u001b[0m\u001b[0;34m)\u001b[0m \u001b[0;32mfrom\u001b[0m \u001b[0;32mNone\u001b[0m\u001b[0;34m\u001b[0m\u001b[0;34m\u001b[0m\u001b[0m\n\u001b[1;32m     11\u001b[0m \u001b[0;34m\u001b[0m\u001b[0m\n\u001b[0;32m---> 12\u001b[0;31m \u001b[0mcaller\u001b[0m\u001b[0;34m(\u001b[0m\u001b[0;34m)\u001b[0m\u001b[0;34m\u001b[0m\u001b[0;34m\u001b[0m\u001b[0m\n\u001b[0m",
      "\u001b[0;32m<ipython-input-101-e24ee91762cb>\u001b[0m in \u001b[0;36mcaller\u001b[0;34m()\u001b[0m\n\u001b[1;32m      8\u001b[0m     \u001b[0;32mexcept\u001b[0m \u001b[0mException\u001b[0m \u001b[0;32mas\u001b[0m \u001b[0me\u001b[0m\u001b[0;34m:\u001b[0m\u001b[0;34m\u001b[0m\u001b[0;34m\u001b[0m\u001b[0m\n\u001b[1;32m      9\u001b[0m         \u001b[0;31m# None is used. This will not show the previous exception chain\u001b[0m\u001b[0;34m\u001b[0m\u001b[0;34m\u001b[0m\u001b[0;34m\u001b[0m\u001b[0m\n\u001b[0;32m---> 10\u001b[0;31m         \u001b[0;32mraise\u001b[0m \u001b[0mRuntimeError\u001b[0m\u001b[0;34m(\u001b[0m\u001b[0;34m\"Failure in func()\"\u001b[0m\u001b[0;34m)\u001b[0m \u001b[0;32mfrom\u001b[0m \u001b[0;32mNone\u001b[0m\u001b[0;34m\u001b[0m\u001b[0;34m\u001b[0m\u001b[0m\n\u001b[0m\u001b[1;32m     11\u001b[0m \u001b[0;34m\u001b[0m\u001b[0m\n\u001b[1;32m     12\u001b[0m \u001b[0mcaller\u001b[0m\u001b[0;34m(\u001b[0m\u001b[0;34m)\u001b[0m\u001b[0;34m\u001b[0m\u001b[0;34m\u001b[0m\u001b[0m\n",
      "\u001b[0;31mRuntimeError\u001b[0m: Failure in func()"
     ]
    }
   ],
   "source": [
    "def func():\n",
    "    raise Exception(\"In func\")\n",
    "    \n",
    "    \n",
    "def caller():\n",
    "    try:\n",
    "        func()\n",
    "    except Exception as e:\n",
    "        # None is used. This will not show the previous exception chain\n",
    "        raise RuntimeError(\"Failure in func()\") from None\n",
    "        \n",
    "caller()"
   ]
  },
  {
   "cell_type": "markdown",
   "id": "851adcea",
   "metadata": {},
   "source": [
    "# References"
   ]
  },
  {
   "cell_type": "code",
   "execution_count": 75,
   "id": "1568efd8",
   "metadata": {},
   "outputs": [],
   "source": [
    "# 1. To learn about in-built exceptions and their arguments - https://docs.python.org/3/library/exceptions.html#RuntimeError\n",
    "# 2. https://docs.python.org/3/tutorial/errors.html"
   ]
  }
 ],
 "metadata": {
  "kernelspec": {
   "display_name": "Python 3",
   "language": "python",
   "name": "python3"
  },
  "language_info": {
   "codemirror_mode": {
    "name": "ipython",
    "version": 3
   },
   "file_extension": ".py",
   "mimetype": "text/x-python",
   "name": "python",
   "nbconvert_exporter": "python",
   "pygments_lexer": "ipython3",
   "version": "3.8.8"
  }
 },
 "nbformat": 4,
 "nbformat_minor": 5
}
