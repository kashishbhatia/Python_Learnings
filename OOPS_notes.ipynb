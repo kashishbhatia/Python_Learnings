{
 "cells": [
  {
   "cell_type": "markdown",
   "id": "67184b2e",
   "metadata": {},
   "source": [
    "# Simple class example"
   ]
  },
  {
   "cell_type": "code",
   "execution_count": 1,
   "id": "adb0c28b",
   "metadata": {},
   "outputs": [],
   "source": [
    "\"\"\" class for pets\"\"\"\n",
    "class my_pet:\n",
    "    \"\"\"class for dogs and cats\"\"\"\n",
    "    def __init__(self, pet_type, age):    # init method\n",
    "        \"\"\"Constructor\"\"\"\n",
    "        self.pet_type = pet_type\n",
    "        self.age = age\n",
    "        self.weight = 1\n",
    "\n",
    "    def calc_weight(self):\n",
    "        \"\"\"Calculate weight of pet based on type\"\"\"\n",
    "        if (self.pet_type == 'dog'):\n",
    "            return 10\n",
    "        elif (self.pet_type == 'cat'):\n",
    "            return 5\n",
    "        \n",
    "def dummy():\n",
    "    \"\"\" function dummy\"\"\"\n",
    "    return 0\n"
   ]
  },
  {
   "cell_type": "markdown",
   "id": "1ac66a5d",
   "metadata": {},
   "source": [
    "## How to print doc strings"
   ]
  },
  {
   "cell_type": "code",
   "execution_count": 2,
   "id": "cc1cafa2",
   "metadata": {},
   "outputs": [
    {
     "name": "stdout",
     "output_type": "stream",
     "text": [
      "class for dogs and cats\n"
     ]
    }
   ],
   "source": [
    "print(my_pet.__doc__)    # how to print doc strings of funcs and classes. This is using class name"
   ]
  },
  {
   "cell_type": "code",
   "execution_count": 3,
   "id": "62399399",
   "metadata": {},
   "outputs": [],
   "source": [
    "pet = my_pet('cat', 7)   # "
   ]
  },
  {
   "cell_type": "code",
   "execution_count": 4,
   "id": "7edd9263",
   "metadata": {},
   "outputs": [
    {
     "name": "stdout",
     "output_type": "stream",
     "text": [
      "class for dogs and cats\n"
     ]
    }
   ],
   "source": [
    "print(pet.__doc__)   # This is using class object"
   ]
  },
  {
   "cell_type": "code",
   "execution_count": 5,
   "id": "f44b53bd",
   "metadata": {},
   "outputs": [
    {
     "name": "stdout",
     "output_type": "stream",
     "text": [
      "Constructor\n"
     ]
    }
   ],
   "source": [
    "print(pet.__init__.__doc__)     # This is class init func doc string"
   ]
  },
  {
   "cell_type": "code",
   "execution_count": 6,
   "id": "93575be8",
   "metadata": {},
   "outputs": [
    {
     "name": "stdout",
     "output_type": "stream",
     "text": [
      "Calculate weight of pet based on type\n"
     ]
    }
   ],
   "source": [
    "print(pet.calc_weight.__doc__)"
   ]
  },
  {
   "cell_type": "code",
   "execution_count": 7,
   "id": "b4d3ca17",
   "metadata": {},
   "outputs": [
    {
     "name": "stdout",
     "output_type": "stream",
     "text": [
      " function dummy\n"
     ]
    }
   ],
   "source": [
    "print(dummy.__doc__)"
   ]
  },
  {
   "cell_type": "markdown",
   "id": "37dcbad1",
   "metadata": {},
   "source": [
    "## How to add another attribute to class from outside class. A HACK !!!"
   ]
  },
  {
   "cell_type": "code",
   "execution_count": 8,
   "id": "b43c9ac7",
   "metadata": {},
   "outputs": [
    {
     "name": "stdout",
     "output_type": "stream",
     "text": [
      "black\n",
      "black\n"
     ]
    }
   ],
   "source": [
    "pet1 = my_pet('cat', 7)\n",
    "pet1.color = 'black'   # though my_pet class does not have a attribuute 'color', we defined it from outside.\n",
    "                       # This practice is generally not recommended. One of the reasons is that some objects of \n",
    "                       # the class wiill have these additional attributes and some may not, whiich is difficult to\n",
    "                       # track when it comes too managing objects. For examplle below pet2 object cannot access 'color'\n",
    "                       # attribute as it has not defined it\n",
    "print(pet1.color)\n",
    "pet1.pet_type = pet1.color\n",
    "print(pet1.pet_type)\n"
   ]
  },
  {
   "cell_type": "code",
   "execution_count": 9,
   "id": "9c78beb4",
   "metadata": {},
   "outputs": [
    {
     "ename": "AttributeError",
     "evalue": "'my_pet' object has no attribute 'color'",
     "output_type": "error",
     "traceback": [
      "\u001b[0;31m---------------------------------------------------------------------------\u001b[0m",
      "\u001b[0;31mAttributeError\u001b[0m                            Traceback (most recent call last)",
      "\u001b[0;32m<ipython-input-9-988445eabe27>\u001b[0m in \u001b[0;36m<module>\u001b[0;34m\u001b[0m\n\u001b[1;32m      1\u001b[0m \u001b[0mpet2\u001b[0m \u001b[0;34m=\u001b[0m \u001b[0mmy_pet\u001b[0m\u001b[0;34m(\u001b[0m\u001b[0;34m'cat'\u001b[0m\u001b[0;34m,\u001b[0m \u001b[0;36m7\u001b[0m\u001b[0;34m)\u001b[0m\u001b[0;34m\u001b[0m\u001b[0;34m\u001b[0m\u001b[0m\n\u001b[0;32m----> 2\u001b[0;31m \u001b[0mprint\u001b[0m\u001b[0;34m(\u001b[0m\u001b[0mpet2\u001b[0m\u001b[0;34m.\u001b[0m\u001b[0mcolor\u001b[0m\u001b[0;34m)\u001b[0m     \u001b[0;31m# this would fail as pet2 object has not defined 'color' attribute.\u001b[0m\u001b[0;34m\u001b[0m\u001b[0;34m\u001b[0m\u001b[0m\n\u001b[0m",
      "\u001b[0;31mAttributeError\u001b[0m: 'my_pet' object has no attribute 'color'"
     ]
    }
   ],
   "source": [
    "pet2 = my_pet('cat', 7)\n",
    "print(pet2.color)     # this would fail as pet2 object has not defined 'color' attribute."
   ]
  },
  {
   "cell_type": "markdown",
   "id": "f496da32",
   "metadata": {},
   "source": [
    "## A confusing example"
   ]
  },
  {
   "cell_type": "code",
   "execution_count": 10,
   "id": "388d826c",
   "metadata": {},
   "outputs": [
    {
     "name": "stdout",
     "output_type": "stream",
     "text": [
      "5\n"
     ]
    }
   ],
   "source": [
    "print(pet2.calc_weight())"
   ]
  },
  {
   "cell_type": "code",
   "execution_count": 11,
   "id": "fc18134b",
   "metadata": {},
   "outputs": [
    {
     "name": "stdout",
     "output_type": "stream",
     "text": [
      "1\n"
     ]
    }
   ],
   "source": [
    "print(pet2.weight)  # this is because calc_weight() definition does not change weight attribute"
   ]
  },
  {
   "cell_type": "code",
   "execution_count": 12,
   "id": "c502e645",
   "metadata": {},
   "outputs": [
    {
     "name": "stdout",
     "output_type": "stream",
     "text": [
      "5\n"
     ]
    }
   ],
   "source": [
    "# now this will change the weight attribuute\n",
    "pet2.weight = pet2.calc_weight()\n",
    "print(pet2.weight)"
   ]
  },
  {
   "cell_type": "markdown",
   "id": "35d6e4c0",
   "metadata": {},
   "source": [
    "# Class inheritance"
   ]
  },
  {
   "cell_type": "code",
   "execution_count": 13,
   "id": "69b7c1ce",
   "metadata": {},
   "outputs": [],
   "source": [
    "# consider a class\n",
    "class shape:\n",
    "    def __init__(self, no_sides):\n",
    "        self.no_sides = no_sides\n",
    "        self.sides = [0 for x in range(no_sides)]  # iniitailiize all sides with 0\n",
    "    \n",
    "    def input_sides(self):\n",
    "        self.sides = [input(\"Enter side \" + str(i+1) + \" :\") for i in range(self.no_sides)] #input here will be stroed in form of str\n",
    "        \n",
    "    def print_sides(self):\n",
    "        print(\"Sides are\")\n",
    "        for side in self.sides:\n",
    "            print(side)\n",
    "            \n",
    "            \n",
    "# Note : input() in input_sides()  will be stroed in form of str\n",
    "# Change the expression to following to store in int\n",
    "\n",
    "# self.sides = [int(input(\"Enter side \" + str(i+1) + \" :\")) for i in range(self.no_sides)]\n",
    "# OR\n",
    "# covert it to int while using. See below\n"
   ]
  },
  {
   "cell_type": "markdown",
   "id": "dd4b7afa",
   "metadata": {},
   "source": [
    "## Simple inheritance example (single level)"
   ]
  },
  {
   "cell_type": "code",
   "execution_count": 17,
   "id": "d30c620d",
   "metadata": {},
   "outputs": [
    {
     "name": "stdout",
     "output_type": "stream",
     "text": [
      "Enter side 1 :6\n",
      "Sides are\n",
      "6\n"
     ]
    },
    {
     "data": {
      "text/plain": [
       "36"
      ]
     },
     "execution_count": 17,
     "metadata": {},
     "output_type": "execute_result"
    }
   ],
   "source": [
    "class square(shape):\n",
    "    def __init__(self):\n",
    "        shape.__init__(self, 1)    # overriding constructor. Example of method overriding\n",
    "        \n",
    "    def area(self):\n",
    "        return int(self.sides[0]) * int(self.sides[0])     # coverting it from str to int\n",
    "\n",
    "    \n",
    "s = square()\n",
    "s.input_sides()\n",
    "s.print_sides()\n",
    "s.area()\n",
    "\n",
    "\n"
   ]
  },
  {
   "cell_type": "code",
   "execution_count": 18,
   "id": "c82676cd",
   "metadata": {},
   "outputs": [
    {
     "name": "stdout",
     "output_type": "stream",
     "text": [
      "Enter side 1 :6\n",
      "Sides are\n",
      "6\n"
     ]
    },
    {
     "data": {
      "text/plain": [
       "36"
      ]
     },
     "execution_count": 18,
     "metadata": {},
     "output_type": "execute_result"
    }
   ],
   "source": [
    "# the __init__ method in the derived class overrides that in the base class. \n",
    "# This is to say, __init__() in square gets preference over the __init__ in shape\n",
    "# Instead of calling __init__ using class name 'shape', A better option would be \n",
    "# to use the built-in function super(). So, super().__init__(1) is equivalent to \n",
    "# shape.__init__(self,1) and is preferred.\n",
    "\n",
    "\n",
    "# example using super()\n",
    "class square1(shape):\n",
    "    def __init__(self):\n",
    "        super().__init__(self, 1)    # overriding constructor. Example of method overriding\n",
    "        \n",
    "    def area(self):\n",
    "        return int(self.sides[0]) * int(self.sides[0])     # coverting it from str to int   \n",
    "\n",
    "s = square()\n",
    "s.input_sides()\n",
    "s.print_sides()\n",
    "s.area()\n"
   ]
  },
  {
   "cell_type": "markdown",
   "id": "fd4478cd",
   "metadata": {},
   "source": [
    "## isinstance() and issubclass() in-built functions"
   ]
  },
  {
   "cell_type": "code",
   "execution_count": 19,
   "id": "13e97206",
   "metadata": {},
   "outputs": [
    {
     "name": "stdout",
     "output_type": "stream",
     "text": [
      "True\n",
      "True\n",
      "False\n",
      "True\n"
     ]
    }
   ],
   "source": [
    "# The function isinstance() returns True if the object is an instance of the class or other classes derived from it. \n",
    "# Each and every class in Python inherits from the base class object.\n",
    "\n",
    "print(isinstance(s, square))  # True\n",
    "print(isinstance(s, shape))   # True\n",
    "print(isinstance(s, int))     # False\n",
    "print(isinstance(s, object))  # True"
   ]
  },
  {
   "cell_type": "code",
   "execution_count": 20,
   "id": "044103dd",
   "metadata": {},
   "outputs": [
    {
     "name": "stdout",
     "output_type": "stream",
     "text": [
      "True\n",
      "False\n",
      "True\n"
     ]
    }
   ],
   "source": [
    "# Similarly, issubclass() is used to check for class inheritance.\n",
    "print(issubclass(square, shape))  # True\n",
    "print(issubclass(shape, square))  # False\n",
    "print(issubclass(square, object))  # True"
   ]
  },
  {
   "cell_type": "markdown",
   "id": "b158dd8a",
   "metadata": {},
   "source": [
    "## Multiple class inheritance"
   ]
  },
  {
   "cell_type": "code",
   "execution_count": null,
   "id": "9a843785",
   "metadata": {},
   "outputs": [],
   "source": [
    "# Multilevel inheritance \n",
    "class a:\n",
    "    pass\n",
    "\n",
    "class b(a):\n",
    "    pass\n",
    "\n",
    "\n",
    "class c(b):\n",
    "    pass\n",
    "\n",
    "\n",
    "# Multi-derived inheritance \n",
    "class a:\n",
    "    pass\n",
    "\n",
    "class b:\n",
    "    pass\n",
    "\n",
    "class c(a, b):\n",
    "    pass\n",
    "\n"
   ]
  },
  {
   "cell_type": "markdown",
   "id": "9bca179b",
   "metadata": {},
   "source": [
    "## Demystifying \\_\\_super\\_\\_, \\_\\_class\\_\\_"
   ]
  },
  {
   "cell_type": "code",
   "execution_count": null,
   "id": "6ce7c502",
   "metadata": {},
   "outputs": [],
   "source": [
    "TODO"
   ]
  },
  {
   "cell_type": "markdown",
   "id": "f0da3604",
   "metadata": {},
   "source": [
    "## Polymorphism"
   ]
  },
  {
   "cell_type": "code",
   "execution_count": null,
   "id": "e9bb272c",
   "metadata": {},
   "outputs": [],
   "source": [
    "TODO"
   ]
  },
  {
   "cell_type": "markdown",
   "id": "270944fb",
   "metadata": {},
   "source": [
    "# Class access modifiers - public, private and protected attributes"
   ]
  },
  {
   "cell_type": "markdown",
   "id": "9fcac006",
   "metadata": {},
   "source": [
    "## protected "
   ]
  },
  {
   "cell_type": "code",
   "execution_count": 25,
   "id": "83129622",
   "metadata": {},
   "outputs": [
    {
     "name": "stdout",
     "output_type": "stream",
     "text": [
      "1 2\n",
      "class a\n",
      "class a\n"
     ]
    }
   ],
   "source": [
    "# Python's convention to make an instance variable protected is to add \n",
    "# a prefix _ (single underscore) to it. This effectively prevents it from\n",
    "# being accessed unless it is from within a sub-class.\n",
    "\n",
    "class a:\n",
    "    _var1 = \"class a\"\n",
    "    \n",
    "    def __init__(self, i, j):\n",
    "        self._i = i\n",
    "        self._j = j\n",
    "        \n",
    "    def print_class(self):\n",
    "        print(self._var1)\n",
    "        \n",
    "        \n",
    "obj = a(1, 2)\n",
    "print(obj._i, obj._j)\n",
    "print(obj._var1)\n",
    "obj.print_class()\n",
    "\n",
    "# Protected variables should not be accessible outside class, However, it is still accessible in Python. \n",
    "# Hence, the responsible programmer would refrain from accessing and modifying instance variables prefixed \n",
    "# with _ from outside its class."
   ]
  },
  {
   "cell_type": "markdown",
   "id": "3a1f6f8f",
   "metadata": {},
   "source": [
    "## private"
   ]
  },
  {
   "cell_type": "code",
   "execution_count": 29,
   "id": "299f2c63",
   "metadata": {},
   "outputs": [
    {
     "name": "stdout",
     "output_type": "stream",
     "text": [
      "class a\n"
     ]
    }
   ],
   "source": [
    "# The double underscore __ prefixed to a variable makes it private. It gives a strong suggestion not to touch it \n",
    "# from outside the class. Any attempt to do so will result in an AttributeError\n",
    "\n",
    "class a:\n",
    "    __var1 = \"class a\"\n",
    "    \n",
    "    def __init__(self, i, j):\n",
    "        self.__i = i\n",
    "        self.__j = j\n",
    "        \n",
    "    def print_class(self):\n",
    "        print(self.__var1)\n",
    "        \n",
    "        \n",
    "obj = a(1, 2)\n",
    "print(obj.__i, obj.__j)   # doesn't work\n",
    "print(obj.__var1)         # doesn't work\n",
    "obj.print_class()         # work"
   ]
  },
  {
   "cell_type": "markdown",
   "id": "387f6625",
   "metadata": {},
   "source": [
    "# How to use decorators in class methods"
   ]
  },
  {
   "cell_type": "code",
   "execution_count": null,
   "id": "db79f528",
   "metadata": {},
   "outputs": [],
   "source": [
    "TODO"
   ]
  },
  {
   "cell_type": "markdown",
   "id": "485bd76d",
   "metadata": {},
   "source": [
    "# References"
   ]
  },
  {
   "cell_type": "code",
   "execution_count": null,
   "id": "819e0815",
   "metadata": {},
   "outputs": [],
   "source": [
    "https://docs.python.org/3/reference/datamodel.html#special-method-names\n",
    "https://www.tutorialsteacher.com/python/magic-methods-in-python     <<----- good website\n",
    "https://www.programiz.com/python-programming/multiple-inheritance   <--- Method Resolution Order in Python\n",
    "https://www.programiz.com/python-programming/operator-overloading\n",
    "https://www.tutorialsteacher.com/python/inheritance-in-python"
   ]
  }
 ],
 "metadata": {
  "kernelspec": {
   "display_name": "Python 3",
   "language": "python",
   "name": "python3"
  },
  "language_info": {
   "codemirror_mode": {
    "name": "ipython",
    "version": 3
   },
   "file_extension": ".py",
   "mimetype": "text/x-python",
   "name": "python",
   "nbconvert_exporter": "python",
   "pygments_lexer": "ipython3",
   "version": "3.8.8"
  }
 },
 "nbformat": 4,
 "nbformat_minor": 5
}
